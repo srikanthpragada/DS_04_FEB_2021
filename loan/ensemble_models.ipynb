{
 "cells": [
  {
   "cell_type": "markdown",
   "metadata": {},
   "source": [
    "# Classification Case Study - Ensemble Models"
   ]
  },
  {
   "cell_type": "markdown",
   "metadata": {},
   "source": [
    "### Import libraries "
   ]
  },
  {
   "cell_type": "code",
   "execution_count": 1,
   "metadata": {},
   "outputs": [],
   "source": [
    "# Importing required packages\n",
    "import pandas as pd\n",
    "import numpy as np\n",
    "import seaborn as sns\n",
    "import matplotlib.pyplot as plt\n",
    "sns.set(style='white')"
   ]
  },
  {
   "cell_type": "markdown",
   "metadata": {},
   "source": [
    "### Load data from final csv"
   ]
  },
  {
   "cell_type": "code",
   "execution_count": 2,
   "metadata": {},
   "outputs": [],
   "source": [
    "train = pd.read_csv(\"final_train.csv\")"
   ]
  },
  {
   "cell_type": "code",
   "execution_count": 3,
   "metadata": {},
   "outputs": [],
   "source": [
    "X = train.drop(columns=['LoanStatus'])\n",
    "y = train.LoanStatus"
   ]
  },
  {
   "cell_type": "code",
   "execution_count": 4,
   "metadata": {},
   "outputs": [],
   "source": [
    "X = pd.get_dummies(X)  # One Hot Encoding "
   ]
  },
  {
   "cell_type": "code",
   "execution_count": 5,
   "metadata": {},
   "outputs": [
    {
     "data": {
      "text/plain": [
       "Index(['Dependents', 'LoanAmountTerm', 'CreditHistory', 'LoanAmountLog',\n",
       "       'IncomeLog', 'Gender_Female', 'Gender_Male', 'Married_No',\n",
       "       'Married_Yes', 'Education_Graduate', 'Education_Not Graduate',\n",
       "       'SelfEmployed_No', 'SelfEmployed_Yes', 'PropertyArea_Rural',\n",
       "       'PropertyArea_Semiurban', 'PropertyArea_Urban'],\n",
       "      dtype='object')"
      ]
     },
     "execution_count": 5,
     "metadata": {},
     "output_type": "execute_result"
    }
   ],
   "source": [
    "X.columns"
   ]
  },
  {
   "cell_type": "markdown",
   "metadata": {},
   "source": [
    "### Split data into train and test data "
   ]
  },
  {
   "cell_type": "code",
   "execution_count": 6,
   "metadata": {},
   "outputs": [],
   "source": [
    "from sklearn.model_selection import train_test_split\n",
    "from sklearn.metrics import accuracy_score\n",
    "X_train, X_test, y_train, y_test = train_test_split(X,y, test_size=0.2, random_state=0)"
   ]
  },
  {
   "cell_type": "markdown",
   "metadata": {},
   "source": [
    "## Bagging - RandomForestClassifier "
   ]
  },
  {
   "cell_type": "code",
   "execution_count": 8,
   "metadata": {},
   "outputs": [],
   "source": [
    "from sklearn.tree import export_text\n",
    "from sklearn.ensemble import RandomForestClassifier"
   ]
  },
  {
   "cell_type": "code",
   "execution_count": 9,
   "metadata": {},
   "outputs": [
    {
     "data": {
      "text/plain": [
       "RandomForestClassifier(max_depth=3, n_estimators=5)"
      ]
     },
     "execution_count": 9,
     "metadata": {},
     "output_type": "execute_result"
    }
   ],
   "source": [
    "model = RandomForestClassifier(n_estimators=5, max_depth=3)\n",
    "model.fit(X_train,y_train)"
   ]
  },
  {
   "cell_type": "code",
   "execution_count": 10,
   "metadata": {},
   "outputs": [
    {
     "data": {
      "text/plain": [
       "0.7782705099778271"
      ]
     },
     "execution_count": 10,
     "metadata": {},
     "output_type": "execute_result"
    }
   ],
   "source": [
    "model.score(X_train,y_train)"
   ]
  },
  {
   "cell_type": "code",
   "execution_count": 11,
   "metadata": {},
   "outputs": [],
   "source": [
    "y_pred = model.predict(X_test)"
   ]
  },
  {
   "cell_type": "code",
   "execution_count": 12,
   "metadata": {},
   "outputs": [
    {
     "data": {
      "text/plain": [
       "0.7168141592920354"
      ]
     },
     "execution_count": 12,
     "metadata": {},
     "output_type": "execute_result"
    }
   ],
   "source": [
    "accuracy_score(y_test,y_pred)"
   ]
  },
  {
   "cell_type": "code",
   "execution_count": 13,
   "metadata": {},
   "outputs": [
    {
     "name": "stdout",
     "output_type": "stream",
     "text": [
      "Tree :  1\n",
      "|--- IncomeLog <= 7.93\n",
      "|   |--- CreditHistory <= 0.50\n",
      "|   |   |--- class: 0.0\n",
      "|   |--- CreditHistory >  0.50\n",
      "|   |   |--- IncomeLog <= 7.89\n",
      "|   |   |   |--- class: 0.0\n",
      "|   |   |--- IncomeLog >  7.89\n",
      "|   |   |   |--- class: 1.0\n",
      "|--- IncomeLog >  7.93\n",
      "|   |--- Dependents <= 1.50\n",
      "|   |   |--- IncomeLog <= 8.70\n",
      "|   |   |   |--- class: 1.0\n",
      "|   |   |--- IncomeLog >  8.70\n",
      "|   |   |   |--- class: 1.0\n",
      "|   |--- Dependents >  1.50\n",
      "|   |   |--- IncomeLog <= 8.58\n",
      "|   |   |   |--- class: 1.0\n",
      "|   |   |--- IncomeLog >  8.58\n",
      "|   |   |   |--- class: 1.0\n",
      "\n",
      "Tree :  2\n",
      "|--- LoanAmountLog <= 4.89\n",
      "|   |--- CreditHistory <= 0.50\n",
      "|   |   |--- PropertyArea_Rural <= 0.50\n",
      "|   |   |   |--- class: 0.0\n",
      "|   |   |--- PropertyArea_Rural >  0.50\n",
      "|   |   |   |--- class: 0.0\n",
      "|   |--- CreditHistory >  0.50\n",
      "|   |   |--- SelfEmployed_No <= 0.50\n",
      "|   |   |   |--- class: 1.0\n",
      "|   |   |--- SelfEmployed_No >  0.50\n",
      "|   |   |   |--- class: 1.0\n",
      "|--- LoanAmountLog >  4.89\n",
      "|   |--- Education_Not Graduate <= 0.50\n",
      "|   |   |--- Gender_Male <= 0.50\n",
      "|   |   |   |--- class: 0.0\n",
      "|   |   |--- Gender_Male >  0.50\n",
      "|   |   |   |--- class: 1.0\n",
      "|   |--- Education_Not Graduate >  0.50\n",
      "|   |   |--- CreditHistory <= 0.50\n",
      "|   |   |   |--- class: 0.0\n",
      "|   |   |--- CreditHistory >  0.50\n",
      "|   |   |   |--- class: 0.0\n",
      "\n",
      "Tree :  3\n",
      "|--- Married_Yes <= 0.50\n",
      "|   |--- LoanAmountLog <= 5.72\n",
      "|   |   |--- IncomeLog <= 8.16\n",
      "|   |   |   |--- class: 0.0\n",
      "|   |   |--- IncomeLog >  8.16\n",
      "|   |   |   |--- class: 1.0\n",
      "|   |--- LoanAmountLog >  5.72\n",
      "|   |   |--- class: 0.0\n",
      "|--- Married_Yes >  0.50\n",
      "|   |--- PropertyArea_Urban <= 0.50\n",
      "|   |   |--- PropertyArea_Rural <= 0.50\n",
      "|   |   |   |--- class: 1.0\n",
      "|   |   |--- PropertyArea_Rural >  0.50\n",
      "|   |   |   |--- class: 1.0\n",
      "|   |--- PropertyArea_Urban >  0.50\n",
      "|   |   |--- LoanAmountLog <= 4.93\n",
      "|   |   |   |--- class: 1.0\n",
      "|   |   |--- LoanAmountLog >  4.93\n",
      "|   |   |   |--- class: 0.0\n",
      "\n",
      "Tree :  4\n",
      "|--- Education_Not Graduate <= 0.50\n",
      "|   |--- SelfEmployed_Yes <= 0.50\n",
      "|   |   |--- IncomeLog <= 7.78\n",
      "|   |   |   |--- class: 0.0\n",
      "|   |   |--- IncomeLog >  7.78\n",
      "|   |   |   |--- class: 1.0\n",
      "|   |--- SelfEmployed_Yes >  0.50\n",
      "|   |   |--- LoanAmountTerm <= 240.00\n",
      "|   |   |   |--- class: 1.0\n",
      "|   |   |--- LoanAmountTerm >  240.00\n",
      "|   |   |   |--- class: 1.0\n",
      "|--- Education_Not Graduate >  0.50\n",
      "|   |--- Married_No <= 0.50\n",
      "|   |   |--- LoanAmountLog <= 4.48\n",
      "|   |   |   |--- class: 0.0\n",
      "|   |   |--- LoanAmountLog >  4.48\n",
      "|   |   |   |--- class: 1.0\n",
      "|   |--- Married_No >  0.50\n",
      "|   |   |--- IncomeLog <= 7.91\n",
      "|   |   |   |--- class: 1.0\n",
      "|   |   |--- IncomeLog >  7.91\n",
      "|   |   |   |--- class: 0.0\n",
      "\n",
      "Tree :  5\n",
      "|--- Married_Yes <= 0.50\n",
      "|   |--- LoanAmountTerm <= 78.00\n",
      "|   |   |--- class: 0.0\n",
      "|   |--- LoanAmountTerm >  78.00\n",
      "|   |   |--- IncomeLog <= 9.68\n",
      "|   |   |   |--- class: 1.0\n",
      "|   |   |--- IncomeLog >  9.68\n",
      "|   |   |   |--- class: 0.0\n",
      "|--- Married_Yes >  0.50\n",
      "|   |--- CreditHistory <= 0.50\n",
      "|   |   |--- Education_Graduate <= 0.50\n",
      "|   |   |   |--- class: 0.0\n",
      "|   |   |--- Education_Graduate >  0.50\n",
      "|   |   |   |--- class: 0.0\n",
      "|   |--- CreditHistory >  0.50\n",
      "|   |   |--- LoanAmountLog <= 5.54\n",
      "|   |   |   |--- class: 1.0\n",
      "|   |   |--- LoanAmountLog >  5.54\n",
      "|   |   |   |--- class: 1.0\n",
      "\n"
     ]
    }
   ],
   "source": [
    "# Print internal decision trees\n",
    "for count, tree in enumerate(model.estimators_):\n",
    "      # Print tree for each classifier \n",
    "      tree_rules = export_text(tree, feature_names =  list(X_train.columns))\n",
    "      print(\"Tree : \",count + 1)\n",
    "      print(tree_rules)      "
   ]
  },
  {
   "cell_type": "markdown",
   "metadata": {},
   "source": [
    "## Boosting - GradientBoostingClassifier"
   ]
  },
  {
   "cell_type": "code",
   "execution_count": 14,
   "metadata": {},
   "outputs": [],
   "source": [
    "from sklearn.ensemble import GradientBoostingClassifier"
   ]
  },
  {
   "cell_type": "code",
   "execution_count": 16,
   "metadata": {},
   "outputs": [
    {
     "data": {
      "text/plain": [
       "GradientBoostingClassifier(n_estimators=5)"
      ]
     },
     "execution_count": 16,
     "metadata": {},
     "output_type": "execute_result"
    }
   ],
   "source": [
    "model = GradientBoostingClassifier(n_estimators=5)\n",
    "model.fit(X_train,y_train)"
   ]
  },
  {
   "cell_type": "code",
   "execution_count": 17,
   "metadata": {},
   "outputs": [
    {
     "data": {
      "text/plain": [
       "0.8270509977827051"
      ]
     },
     "execution_count": 17,
     "metadata": {},
     "output_type": "execute_result"
    }
   ],
   "source": [
    "model.score(X_train,y_train)"
   ]
  },
  {
   "cell_type": "code",
   "execution_count": 18,
   "metadata": {},
   "outputs": [],
   "source": [
    "y_pred = model.predict(X_test)"
   ]
  },
  {
   "cell_type": "code",
   "execution_count": 19,
   "metadata": {},
   "outputs": [
    {
     "data": {
      "text/plain": [
       "0.7787610619469026"
      ]
     },
     "execution_count": 19,
     "metadata": {},
     "output_type": "execute_result"
    }
   ],
   "source": [
    "accuracy_score(y_test,y_pred)"
   ]
  },
  {
   "cell_type": "code",
   "execution_count": 20,
   "metadata": {},
   "outputs": [],
   "source": [
    "errors = {}\n",
    "tree_counts = [3,5,8,10,15,20]\n",
    "for count in tree_counts:\n",
    "    model = GradientBoostingClassifier(n_estimators=count)\n",
    "    model.fit(X_train,y_train)\n",
    "    y_pred = model.predict(X_test)\n",
    "    score = accuracy_score(y_test,y_pred)\n",
    "    errors[count] = 1 - score # Error    "
   ]
  },
  {
   "cell_type": "code",
   "execution_count": 21,
   "metadata": {},
   "outputs": [
    {
     "data": {
      "text/plain": [
       "{3: 0.2566371681415929,\n",
       " 5: 0.22123893805309736,\n",
       " 8: 0.22123893805309736,\n",
       " 10: 0.22123893805309736,\n",
       " 15: 0.23008849557522126,\n",
       " 20: 0.23008849557522126}"
      ]
     },
     "execution_count": 21,
     "metadata": {},
     "output_type": "execute_result"
    }
   ],
   "source": [
    "errors"
   ]
  },
  {
   "cell_type": "code",
   "execution_count": 24,
   "metadata": {},
   "outputs": [],
   "source": [
    "# Draw a graph to show error rate and no. of trees\n",
    "import matplotlib.pyplot as plt"
   ]
  },
  {
   "cell_type": "code",
   "execution_count": 22,
   "metadata": {},
   "outputs": [
    {
     "data": {
      "text/plain": [
       "Text(0, 0.5, 'Error')"
      ]
     },
     "execution_count": 22,
     "metadata": {},
     "output_type": "execute_result"
    },
    {
     "data": {
      "image/png": "[encoded data removed]",
      "text/plain": [
       "<Figure size 432x288 with 1 Axes>"
      ]
     },
     "metadata": {},
     "output_type": "display_data"
    }
   ],
   "source": [
    "plt.plot(list(errors.keys()), list(errors.values()))\n",
    "plt.xlabel(\"No. of Trees\")\n",
    "plt.ylabel(\"Error\")"
   ]
  },
  {
   "cell_type": "markdown",
   "metadata": {},
   "source": [
    "## Stacking  - StackingClassifier"
   ]
  },
  {
   "cell_type": "code",
   "execution_count": 23,
   "metadata": {},
   "outputs": [],
   "source": [
    "from sklearn.ensemble import StackingClassifier\n",
    "from sklearn.tree import DecisionTreeClassifier\n",
    "from sklearn.neighbors import KNeighborsClassifier\n",
    "from sklearn.linear_model import LogisticRegression\n",
    "from sklearn.naive_bayes import GaussianNB\n",
    "from sklearn.svm import SVC"
   ]
  },
  {
   "cell_type": "code",
   "execution_count": 24,
   "metadata": {},
   "outputs": [],
   "source": [
    "estimators = [\n",
    "    ('dt',  DecisionTreeClassifier()),\n",
    "    ('knn', KNeighborsClassifier(n_neighbors=5)),\n",
    "    ('svc', SVC()),\n",
    "]"
   ]
  },
  {
   "cell_type": "code",
   "execution_count": 25,
   "metadata": {},
   "outputs": [],
   "source": [
    "clf = StackingClassifier(estimators=estimators, final_estimator=LogisticRegression())"
   ]
  },
  {
   "cell_type": "code",
   "execution_count": 26,
   "metadata": {},
   "outputs": [],
   "source": [
    "from sklearn.model_selection import train_test_split\n",
    "X_train, X_test, y_train, y_test = train_test_split(X, y,random_state=1)"
   ]
  },
  {
   "cell_type": "code",
   "execution_count": 27,
   "metadata": {},
   "outputs": [],
   "source": [
    "from sklearn.preprocessing import StandardScaler\n",
    "ss = StandardScaler()\n",
    "X_train_scaled = ss.fit_transform(X_train)"
   ]
  },
  {
   "cell_type": "code",
   "execution_count": 28,
   "metadata": {},
   "outputs": [],
   "source": [
    "X_test_scaled = ss.transform(X_test)"
   ]
  },
  {
   "cell_type": "code",
   "execution_count": 29,
   "metadata": {},
   "outputs": [
    {
     "data": {
      "text/plain": [
       "StackingClassifier(estimators=[('dt', DecisionTreeClassifier()),\n",
       "                               ('knn', KNeighborsClassifier()),\n",
       "                               ('svc', SVC())],\n",
       "                   final_estimator=LogisticRegression())"
      ]
     },
     "execution_count": 29,
     "metadata": {},
     "output_type": "execute_result"
    }
   ],
   "source": [
    "clf.fit(X_train_scaled, y_train)"
   ]
  },
  {
   "cell_type": "code",
   "execution_count": 30,
   "metadata": {},
   "outputs": [
    {
     "data": {
      "text/plain": [
       "0.8297872340425532"
      ]
     },
     "execution_count": 30,
     "metadata": {},
     "output_type": "execute_result"
    }
   ],
   "source": [
    "clf.score(X_test_scaled, y_test)"
   ]
  },
  {
   "cell_type": "code",
   "execution_count": null,
   "metadata": {},
   "outputs": [],
   "source": []
  },
  {
   "cell_type": "code",
   "execution_count": null,
   "metadata": {},
   "outputs": [],
   "source": []
  }
 ],
 "metadata": {
  "kernelspec": {
   "display_name": "Python 3",
   "language": "python",
   "name": "python3"
  },
  "language_info": {
   "codemirror_mode": {
    "name": "ipython",
    "version": 3
   },
   "file_extension": ".py",
   "mimetype": "text/x-python",
   "name": "python",
   "nbconvert_exporter": "python",
   "pygments_lexer": "ipython3",
   "version": "3.8.5"
  }
 },
 "nbformat": 4,
 "nbformat_minor": 4
}
